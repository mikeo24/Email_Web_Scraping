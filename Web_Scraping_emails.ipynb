{
 "cells": [
  {
   "cell_type": "code",
   "execution_count": 2,
   "metadata": {},
   "outputs": [],
   "source": [
    "import pandas as pd\n",
    "import requests as r\n",
    "from bs4 import BeautifulSoup"
   ]
  },
  {
   "cell_type": "code",
   "execution_count": 3,
   "metadata": {},
   "outputs": [],
   "source": [
    "url = 'https://txstatebobcats.com/staff-directory'"
   ]
  },
  {
   "cell_type": "code",
   "execution_count": 4,
   "metadata": {},
   "outputs": [],
   "source": [
    "res = r.get(url)\n",
    "#res.content"
   ]
  },
  {
   "cell_type": "code",
   "execution_count": 5,
   "metadata": {},
   "outputs": [],
   "source": [
    "# Parse content into a beautiful soup object\n",
    "soup = BeautifulSoup(res.content, 'html.parser')"
   ]
  },
  {
   "cell_type": "code",
   "execution_count": 6,
   "metadata": {},
   "outputs": [],
   "source": [
    "rev_table = []\n",
    "res_elem = soup.find_all(class_='sidearm-table collapse-on-large')"
   ]
  },
  {
   "cell_type": "code",
   "execution_count": 8,
   "metadata": {},
   "outputs": [],
   "source": [
    "#for i in res_elem:\n",
    "    #print(i.text)"
   ]
  },
  {
   "cell_type": "code",
   "execution_count": 9,
   "metadata": {},
   "outputs": [],
   "source": [
    "for i in res_elem:\n",
    "    rev_table.append(i.text)"
   ]
  },
  {
   "cell_type": "code",
   "execution_count": 10,
   "metadata": {
    "scrolled": true
   },
   "outputs": [],
   "source": [
    "#Names\n",
    "\n",
    "name = []\n",
    "name_elem = soup.find_all(headers=\"col-fullname category-0\")\n",
    "name_elem\n",
    "\n",
    "for t in name_elem:\n",
    "    name.append(t.text.replace('\\n', ' ').strip())"
   ]
  },
  {
   "cell_type": "code",
   "execution_count": 11,
   "metadata": {},
   "outputs": [],
   "source": [
    "title = []\n",
    "title_elem = soup.find_all(headers=\"col-staff_title category-0\")\n",
    "title_elem\n",
    "\n",
    "for q in title_elem:\n",
    "    title.append(q.text.replace('\\n', ' ').strip())"
   ]
  },
  {
   "cell_type": "code",
   "execution_count": 12,
   "metadata": {},
   "outputs": [],
   "source": [
    "# Email \n",
    "\n",
    "email = []\n",
    "email_elem = soup.find_all(headers=\"col-staff_email category-0\")\n",
    "email_elem\n",
    "\n",
    "for t in email_elem:\n",
    "    email.append(t.text.replace('\\n', ' ').strip())"
   ]
  },
  {
   "cell_type": "code",
   "execution_count": 13,
   "metadata": {},
   "outputs": [
    {
     "data": {
      "text/html": [
       "<div>\n",
       "<style scoped>\n",
       "    .dataframe tbody tr th:only-of-type {\n",
       "        vertical-align: middle;\n",
       "    }\n",
       "\n",
       "    .dataframe tbody tr th {\n",
       "        vertical-align: top;\n",
       "    }\n",
       "\n",
       "    .dataframe thead th {\n",
       "        text-align: right;\n",
       "    }\n",
       "</style>\n",
       "<table border=\"1\" class=\"dataframe\">\n",
       "  <thead>\n",
       "    <tr style=\"text-align: right;\">\n",
       "      <th></th>\n",
       "      <th>Name</th>\n",
       "      <th>Title</th>\n",
       "      <th>Email</th>\n",
       "    </tr>\n",
       "  </thead>\n",
       "  <tbody>\n",
       "    <tr>\n",
       "      <th>0</th>\n",
       "      <td>Don Coryell</td>\n",
       "      <td>Director of Athletics</td>\n",
       "      <td></td>\n",
       "    </tr>\n",
       "    <tr>\n",
       "      <th>1</th>\n",
       "      <td>Travis Comer</td>\n",
       "      <td>Executive Senior Associate Athletics Director ...</td>\n",
       "      <td></td>\n",
       "    </tr>\n",
       "    <tr>\n",
       "      <th>2</th>\n",
       "      <td>Tracy Shoemake</td>\n",
       "      <td>Executive Senior Associate Athletics Director ...</td>\n",
       "      <td></td>\n",
       "    </tr>\n",
       "    <tr>\n",
       "      <th>3</th>\n",
       "      <td>Bryan Miller</td>\n",
       "      <td>Executive Senior Associate Athletics Director ...</td>\n",
       "      <td></td>\n",
       "    </tr>\n",
       "    <tr>\n",
       "      <th>4</th>\n",
       "      <td>Bryan Dean</td>\n",
       "      <td>Executive Senior Associate Athletics Director ...</td>\n",
       "      <td></td>\n",
       "    </tr>\n",
       "    <tr>\n",
       "      <th>5</th>\n",
       "      <td>Kelsey Solis</td>\n",
       "      <td>Associate Athletics Director - Compliance</td>\n",
       "      <td></td>\n",
       "    </tr>\n",
       "    <tr>\n",
       "      <th>6</th>\n",
       "      <td>Jeremy Stolfa</td>\n",
       "      <td>Associate Athletics Director - Facilities &amp; Op...</td>\n",
       "      <td></td>\n",
       "    </tr>\n",
       "    <tr>\n",
       "      <th>7</th>\n",
       "      <td>Brandi Martinez</td>\n",
       "      <td>Executive Administrative Assistant to the Dire...</td>\n",
       "      <td></td>\n",
       "    </tr>\n",
       "  </tbody>\n",
       "</table>\n",
       "</div>"
      ],
      "text/plain": [
       "              Name                                              Title Email\n",
       "0      Don Coryell                              Director of Athletics      \n",
       "1     Travis Comer  Executive Senior Associate Athletics Director ...      \n",
       "2   Tracy Shoemake  Executive Senior Associate Athletics Director ...      \n",
       "3     Bryan Miller  Executive Senior Associate Athletics Director ...      \n",
       "4       Bryan Dean  Executive Senior Associate Athletics Director ...      \n",
       "5     Kelsey Solis          Associate Athletics Director - Compliance      \n",
       "6    Jeremy Stolfa  Associate Athletics Director - Facilities & Op...      \n",
       "7  Brandi Martinez  Executive Administrative Assistant to the Dire...      "
      ]
     },
     "execution_count": 13,
     "metadata": {},
     "output_type": "execute_result"
    }
   ],
   "source": [
    "final_a = []\n",
    "\n",
    "for names, titles, emails in zip(name, title, email):\n",
    "    final_a.append({'Name':names,'Title':titles,'Email': emails})\n",
    "\n",
    "df = pd.DataFrame(final_a)\n",
    "df"
   ]
  },
  {
   "cell_type": "code",
   "execution_count": 14,
   "metadata": {},
   "outputs": [
    {
     "data": {
      "text/plain": [
       "['Brandi Martinez', 'Linda Arredondo', 'Shelli Sears', 'Michelle Hamilton']"
      ]
     },
     "execution_count": 14,
     "metadata": {},
     "output_type": "execute_result"
    }
   ],
   "source": [
    "#Names category 1\n",
    "\n",
    "name1 = []\n",
    "name1_elem = soup.find_all(headers=\"col-fullname category-1\")\n",
    "name1_elem\n",
    "\n",
    "for tc in name1_elem:\n",
    "    name1.append(tc.text.replace('\\n', ' ').strip())\n",
    "    \n",
    "name1"
   ]
  },
  {
   "cell_type": "code",
   "execution_count": 15,
   "metadata": {},
   "outputs": [
    {
     "data": {
      "text/plain": [
       "['Executive Administrative Assistant to the Director of Athletics',\n",
       " 'Administrative Assistant - Athletics',\n",
       " 'Administrative Assistant - Basketball/Volleyball',\n",
       " 'NCAA Faculty Representative']"
      ]
     },
     "execution_count": 15,
     "metadata": {},
     "output_type": "execute_result"
    }
   ],
   "source": [
    "title1 = []\n",
    "title1_elem = soup.find_all(headers=\"col-staff_title category-1\")\n",
    "title1_elem\n",
    "\n",
    "for qc in title1_elem:\n",
    "    title1.append(qc.text.replace('\\n', ' ').strip())\n",
    "\n",
    "title1"
   ]
  },
  {
   "cell_type": "code",
   "execution_count": 16,
   "metadata": {},
   "outputs": [
    {
     "data": {
      "text/plain": [
       "['', '', '', '']"
      ]
     },
     "execution_count": 16,
     "metadata": {},
     "output_type": "execute_result"
    }
   ],
   "source": [
    "# Email \n",
    "\n",
    "email1 = []\n",
    "email1_elem = soup.find_all(headers=\"col-staff_email category-1\")\n",
    "email1_elem\n",
    "\n",
    "for tp in email1_elem:\n",
    "    email1.append(tp.text.replace('\\n', ' ').strip())\n",
    "\n",
    "email1"
   ]
  },
  {
   "cell_type": "code",
   "execution_count": 17,
   "metadata": {},
   "outputs": [
    {
     "data": {
      "text/html": [
       "<div>\n",
       "<style scoped>\n",
       "    .dataframe tbody tr th:only-of-type {\n",
       "        vertical-align: middle;\n",
       "    }\n",
       "\n",
       "    .dataframe tbody tr th {\n",
       "        vertical-align: top;\n",
       "    }\n",
       "\n",
       "    .dataframe thead th {\n",
       "        text-align: right;\n",
       "    }\n",
       "</style>\n",
       "<table border=\"1\" class=\"dataframe\">\n",
       "  <thead>\n",
       "    <tr style=\"text-align: right;\">\n",
       "      <th></th>\n",
       "      <th>Name</th>\n",
       "      <th>Email</th>\n",
       "      <th>Title</th>\n",
       "    </tr>\n",
       "  </thead>\n",
       "  <tbody>\n",
       "    <tr>\n",
       "      <th>0</th>\n",
       "      <td>Brandi Martinez</td>\n",
       "      <td></td>\n",
       "      <td>Executive Administrative Assistant to the Dire...</td>\n",
       "    </tr>\n",
       "    <tr>\n",
       "      <th>1</th>\n",
       "      <td>Linda Arredondo</td>\n",
       "      <td></td>\n",
       "      <td>Administrative Assistant - Athletics</td>\n",
       "    </tr>\n",
       "    <tr>\n",
       "      <th>2</th>\n",
       "      <td>Shelli Sears</td>\n",
       "      <td></td>\n",
       "      <td>Administrative Assistant - Basketball/Volleyball</td>\n",
       "    </tr>\n",
       "    <tr>\n",
       "      <th>3</th>\n",
       "      <td>Michelle Hamilton</td>\n",
       "      <td></td>\n",
       "      <td>NCAA Faculty Representative</td>\n",
       "    </tr>\n",
       "  </tbody>\n",
       "</table>\n",
       "</div>"
      ],
      "text/plain": [
       "                Name Email                                              Title\n",
       "0    Brandi Martinez        Executive Administrative Assistant to the Dire...\n",
       "1    Linda Arredondo                     Administrative Assistant - Athletics\n",
       "2       Shelli Sears         Administrative Assistant - Basketball/Volleyball\n",
       "3  Michelle Hamilton                              NCAA Faculty Representative"
      ]
     },
     "execution_count": 17,
     "metadata": {},
     "output_type": "execute_result"
    }
   ],
   "source": [
    " final1_array = []\n",
    "\n",
    "for d, c, o in zip(name1, email1, title1):\n",
    "    final1_array.append({'Name':d, 'Email':c, 'Title':o})\n",
    "\n",
    "df1 = pd.DataFrame(final1_array)\n",
    "df1\n",
    "    "
   ]
  },
  {
   "cell_type": "code",
   "execution_count": 18,
   "metadata": {},
   "outputs": [
    {
     "data": {
      "text/html": [
       "<div>\n",
       "<style scoped>\n",
       "    .dataframe tbody tr th:only-of-type {\n",
       "        vertical-align: middle;\n",
       "    }\n",
       "\n",
       "    .dataframe tbody tr th {\n",
       "        vertical-align: top;\n",
       "    }\n",
       "\n",
       "    .dataframe thead th {\n",
       "        text-align: right;\n",
       "    }\n",
       "</style>\n",
       "<table border=\"1\" class=\"dataframe\">\n",
       "  <thead>\n",
       "    <tr style=\"text-align: right;\">\n",
       "      <th></th>\n",
       "      <th>Name</th>\n",
       "      <th>Title</th>\n",
       "      <th>Email</th>\n",
       "    </tr>\n",
       "  </thead>\n",
       "  <tbody>\n",
       "    <tr>\n",
       "      <th>0</th>\n",
       "      <td>Don Coryell</td>\n",
       "      <td>Director of Athletics</td>\n",
       "      <td></td>\n",
       "    </tr>\n",
       "    <tr>\n",
       "      <th>1</th>\n",
       "      <td>Travis Comer</td>\n",
       "      <td>Executive Senior Associate Athletics Director ...</td>\n",
       "      <td></td>\n",
       "    </tr>\n",
       "    <tr>\n",
       "      <th>2</th>\n",
       "      <td>Tracy Shoemake</td>\n",
       "      <td>Executive Senior Associate Athletics Director ...</td>\n",
       "      <td></td>\n",
       "    </tr>\n",
       "    <tr>\n",
       "      <th>3</th>\n",
       "      <td>Bryan Miller</td>\n",
       "      <td>Executive Senior Associate Athletics Director ...</td>\n",
       "      <td></td>\n",
       "    </tr>\n",
       "    <tr>\n",
       "      <th>4</th>\n",
       "      <td>Bryan Dean</td>\n",
       "      <td>Executive Senior Associate Athletics Director ...</td>\n",
       "      <td></td>\n",
       "    </tr>\n",
       "    <tr>\n",
       "      <th>5</th>\n",
       "      <td>Kelsey Solis</td>\n",
       "      <td>Associate Athletics Director - Compliance</td>\n",
       "      <td></td>\n",
       "    </tr>\n",
       "    <tr>\n",
       "      <th>6</th>\n",
       "      <td>Jeremy Stolfa</td>\n",
       "      <td>Associate Athletics Director - Facilities &amp; Op...</td>\n",
       "      <td></td>\n",
       "    </tr>\n",
       "    <tr>\n",
       "      <th>7</th>\n",
       "      <td>Brandi Martinez</td>\n",
       "      <td>Executive Administrative Assistant to the Dire...</td>\n",
       "      <td></td>\n",
       "    </tr>\n",
       "    <tr>\n",
       "      <th>8</th>\n",
       "      <td>Brandi Martinez</td>\n",
       "      <td>Executive Administrative Assistant to the Dire...</td>\n",
       "      <td></td>\n",
       "    </tr>\n",
       "    <tr>\n",
       "      <th>9</th>\n",
       "      <td>Linda Arredondo</td>\n",
       "      <td>Administrative Assistant - Athletics</td>\n",
       "      <td></td>\n",
       "    </tr>\n",
       "    <tr>\n",
       "      <th>10</th>\n",
       "      <td>Shelli Sears</td>\n",
       "      <td>Administrative Assistant - Basketball/Volleyball</td>\n",
       "      <td></td>\n",
       "    </tr>\n",
       "    <tr>\n",
       "      <th>11</th>\n",
       "      <td>Michelle Hamilton</td>\n",
       "      <td>NCAA Faculty Representative</td>\n",
       "      <td></td>\n",
       "    </tr>\n",
       "  </tbody>\n",
       "</table>\n",
       "</div>"
      ],
      "text/plain": [
       "                 Name                                              Title Email\n",
       "0         Don Coryell                              Director of Athletics      \n",
       "1        Travis Comer  Executive Senior Associate Athletics Director ...      \n",
       "2      Tracy Shoemake  Executive Senior Associate Athletics Director ...      \n",
       "3        Bryan Miller  Executive Senior Associate Athletics Director ...      \n",
       "4          Bryan Dean  Executive Senior Associate Athletics Director ...      \n",
       "5        Kelsey Solis          Associate Athletics Director - Compliance      \n",
       "6       Jeremy Stolfa  Associate Athletics Director - Facilities & Op...      \n",
       "7     Brandi Martinez  Executive Administrative Assistant to the Dire...      \n",
       "8     Brandi Martinez  Executive Administrative Assistant to the Dire...      \n",
       "9     Linda Arredondo               Administrative Assistant - Athletics      \n",
       "10       Shelli Sears   Administrative Assistant - Basketball/Volleyball      \n",
       "11  Michelle Hamilton                        NCAA Faculty Representative      "
      ]
     },
     "execution_count": 18,
     "metadata": {},
     "output_type": "execute_result"
    }
   ],
   "source": [
    "# Concating both dataframes within one\n",
    "\n",
    "frames = [df, df1]\n",
    "\n",
    "df2 = pd.concat(frames)\n",
    "df3 = df2.reset_index(drop=True)\n",
    "df3"
   ]
  },
  {
   "cell_type": "code",
   "execution_count": 19,
   "metadata": {},
   "outputs": [],
   "source": [
    "#Extract to a csv file\n",
    "\n",
    "df3.to_csv('Web_Scraping.csv')"
   ]
  }
 ],
 "metadata": {
  "kernelspec": {
   "display_name": "Python 3 (ipykernel)",
   "language": "python",
   "name": "python3"
  },
  "language_info": {
   "codemirror_mode": {
    "name": "ipython",
    "version": 3
   },
   "file_extension": ".py",
   "mimetype": "text/x-python",
   "name": "python",
   "nbconvert_exporter": "python",
   "pygments_lexer": "ipython3",
   "version": "3.9.12"
  }
 },
 "nbformat": 4,
 "nbformat_minor": 4
}
